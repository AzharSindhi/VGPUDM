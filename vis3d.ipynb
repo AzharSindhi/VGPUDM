{
 "cells": [
  {
   "cell_type": "code",
   "execution_count": 18,
   "metadata": {},
   "outputs": [
    {
     "name": "stdout",
     "output_type": "stream",
     "text": [
      "Jupyter environment detected. Enabling Open3D WebVisualizer.\n",
      "[Open3D INFO] WebRTC GUI backend enabled.\n",
      "[Open3D INFO] WebRTCWindowSystem: HTTP handshake server disabled.\n"
     ]
    }
   ],
   "source": [
    "import h5py\n",
    "from pyntcloud import PyntCloud\n",
    "import numpy as np\n",
    "import open3d as o3d\n",
    "import glob\n",
    "import os\n"
   ]
  },
  {
   "cell_type": "code",
   "execution_count": null,
   "metadata": {},
   "outputs": [
    {
     "ename": "AttributeError",
     "evalue": "'PyntCloud' object has no attribute 'sample'",
     "output_type": "error",
     "traceback": [
      "\u001b[0;31m---------------------------------------------------------------------------\u001b[0m",
      "\u001b[0;31mAttributeError\u001b[0m                            Traceback (most recent call last)",
      "\u001b[0;32m/tmp/ipykernel_904060/590665652.py\u001b[0m in \u001b[0;36m<module>\u001b[0;34m\u001b[0m\n\u001b[1;32m     12\u001b[0m \u001b[0mfilenames\u001b[0m \u001b[0;34m=\u001b[0m \u001b[0mos\u001b[0m\u001b[0;34m.\u001b[0m\u001b[0mlistdir\u001b[0m\u001b[0;34m(\u001b[0m\u001b[0mBASE_MODEL_DIR\u001b[0m\u001b[0;34m)\u001b[0m\u001b[0;34m\u001b[0m\u001b[0;34m\u001b[0m\u001b[0m\n\u001b[1;32m     13\u001b[0m \u001b[0;32mfor\u001b[0m \u001b[0mfilename\u001b[0m \u001b[0;32min\u001b[0m \u001b[0mfilenames\u001b[0m\u001b[0;34m:\u001b[0m\u001b[0;34m\u001b[0m\u001b[0;34m\u001b[0m\u001b[0m\n\u001b[0;32m---> 14\u001b[0;31m     \u001b[0mpointcloud\u001b[0m \u001b[0;34m=\u001b[0m \u001b[0mget_point_cloud\u001b[0m\u001b[0;34m(\u001b[0m\u001b[0mfilename\u001b[0m\u001b[0;34m)\u001b[0m\u001b[0;34m\u001b[0m\u001b[0;34m\u001b[0m\u001b[0m\n\u001b[0m\u001b[1;32m     15\u001b[0m     \u001b[0mpoints\u001b[0m \u001b[0;34m=\u001b[0m \u001b[0mpointcloud\u001b[0m\u001b[0;34m.\u001b[0m\u001b[0mpoints\u001b[0m\u001b[0;34m.\u001b[0m\u001b[0mvalues\u001b[0m\u001b[0;34m\u001b[0m\u001b[0;34m\u001b[0m\u001b[0m\n\u001b[1;32m     16\u001b[0m     \u001b[0mprint\u001b[0m\u001b[0;34m(\u001b[0m\u001b[0mpoints\u001b[0m\u001b[0;34m.\u001b[0m\u001b[0mshape\u001b[0m\u001b[0;34m)\u001b[0m\u001b[0;34m\u001b[0m\u001b[0;34m\u001b[0m\u001b[0m\n",
      "\u001b[0;32m/tmp/ipykernel_904060/590665652.py\u001b[0m in \u001b[0;36mget_point_cloud\u001b[0;34m(filename, num_points)\u001b[0m\n\u001b[1;32m      7\u001b[0m     \u001b[0mpointcloud\u001b[0m \u001b[0;34m=\u001b[0m \u001b[0mPyntCloud\u001b[0m\u001b[0;34m.\u001b[0m\u001b[0mfrom_file\u001b[0m\u001b[0;34m(\u001b[0m\u001b[0mos\u001b[0m\u001b[0;34m.\u001b[0m\u001b[0mpath\u001b[0m\u001b[0;34m.\u001b[0m\u001b[0mjoin\u001b[0m\u001b[0;34m(\u001b[0m\u001b[0mBASE_MODEL_DIR\u001b[0m\u001b[0;34m,\u001b[0m \u001b[0mfilename\u001b[0m\u001b[0;34m)\u001b[0m\u001b[0;34m)\u001b[0m\u001b[0;34m\u001b[0m\u001b[0;34m\u001b[0m\u001b[0m\n\u001b[1;32m      8\u001b[0m     \u001b[0;31m# TODO: Add a point sample to fix number of points, uniform sampling.\u001b[0m\u001b[0;34m\u001b[0m\u001b[0;34m\u001b[0m\u001b[0;34m\u001b[0m\u001b[0m\n\u001b[0;32m----> 9\u001b[0;31m     \u001b[0mpointcloud\u001b[0m \u001b[0;34m=\u001b[0m \u001b[0mpointcloud\u001b[0m\u001b[0;34m.\u001b[0m\u001b[0msample\u001b[0m\u001b[0;34m(\u001b[0m\u001b[0mnum_points\u001b[0m\u001b[0;34m)\u001b[0m\u001b[0;34m\u001b[0m\u001b[0;34m\u001b[0m\u001b[0m\n\u001b[0m\u001b[1;32m     10\u001b[0m     \u001b[0;32mreturn\u001b[0m \u001b[0mpointcloud\u001b[0m\u001b[0;34m\u001b[0m\u001b[0;34m\u001b[0m\u001b[0m\n\u001b[1;32m     11\u001b[0m \u001b[0;34m\u001b[0m\u001b[0m\n",
      "\u001b[0;31mAttributeError\u001b[0m: 'PyntCloud' object has no attribute 'sample'"
     ]
    }
   ],
   "source": [
    "import os\n",
    "from pyntcloud import PyntCloud\n",
    "\n",
    "BASE_MODEL_DIR = \"/home/ez48awud/Documents/datasets/ModelNet10/ModelNet10/chair/train/\"\n",
    "\n",
    "def get_point_cloud(filename, num_points=1024) -> PyntCloud:\n",
    "    pointcloud = PyntCloud.from_file(os.path.join(BASE_MODEL_DIR, filename))\n",
    "    # TODO: Add a point sample to fix number of points, uniform sampling.\n",
    "    \n",
    "    return pointcloud\n",
    "\n",
    "filenames = os.listdir(BASE_MODEL_DIR)\n",
    "for filename in filenames:\n",
    "    pointcloud = get_point_cloud(filename)\n",
    "    points = pointcloud.points.values\n",
    "    print(points.shape)\n",
    "    # print(type(points))\n",
    "    # pcd = o3d.geometry.PointCloud()\n",
    "    # pcd.points = o3d.utility.Vector3dVector(points)\n",
    "    # o3d.visualization.draw_geometries([pcd])\n",
    "    # break\n"
   ]
  },
  {
   "cell_type": "code",
   "execution_count": 30,
   "metadata": {},
   "outputs": [
    {
     "name": "stdout",
     "output_type": "stream",
     "text": [
      "<KeysViewHDF5 ['class_idx', 'data_dense', 'data_sparse']>\n",
      "(908,) (908, 1024, 3) (908, 256, 3)\n"
     ]
    }
   ],
   "source": [
    "# pu1k_path = \"/home/ez48awud/Documents/datasets/PU1K/train/pu1k_poisson_256_poisson_1024_pc_2500_patch50_addpugan.h5\"\n",
    "pu1k_path = \"/home/ez48awud/Documents/datasets/ModelNet10/ModelNet10_test_1024_256.h5\"\n",
    "h5f = h5py.File(pu1k_path, 'r')\n",
    "print(h5f.keys())\n",
    "classes, target, input = h5f['class_idx'], h5f['data_dense'], h5f['data_sparse']\n",
    "print(classes.shape, target.shape, input.shape) \n"
   ]
  },
  {
   "cell_type": "code",
   "execution_count": 9,
   "metadata": {},
   "outputs": [
    {
     "name": "stdout",
     "output_type": "stream",
     "text": [
      "(24000, 256, 3) (24000, 1024, 3)\n"
     ]
    }
   ],
   "source": [
    "sparse, dense = h5f['poisson_256'], h5f['poisson_1024']\n",
    "print(sparse.shape, dense.shape)"
   ]
  },
  {
   "cell_type": "code",
   "execution_count": null,
   "metadata": {},
   "outputs": [],
   "source": []
  }
 ],
 "metadata": {
  "kernelspec": {
   "display_name": "pudm2",
   "language": "python",
   "name": "python3"
  },
  "language_info": {
   "codemirror_mode": {
    "name": "ipython",
    "version": 3
   },
   "file_extension": ".py",
   "mimetype": "text/x-python",
   "name": "python",
   "nbconvert_exporter": "python",
   "pygments_lexer": "ipython3",
   "version": "3.7.16"
  }
 },
 "nbformat": 4,
 "nbformat_minor": 2
}
